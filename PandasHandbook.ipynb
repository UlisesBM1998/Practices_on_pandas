{
 "cells": [
  {
   "cell_type": "markdown",
   "id": "5534672d",
   "metadata": {},
   "source": [
    "# PANDAS HANDBOOK"
   ]
  },
  {
   "cell_type": "code",
   "execution_count": 1,
   "id": "cf68f9eb",
   "metadata": {},
   "outputs": [],
   "source": [
    "import numpy as np\n",
    "import pandas as pd"
   ]
  },
  {
   "cell_type": "markdown",
   "id": "748ca954",
   "metadata": {},
   "source": [
    "# SERIES"
   ]
  },
  {
   "cell_type": "markdown",
   "id": "2577e2ee",
   "metadata": {},
   "source": [
    "## How to create a serie"
   ]
  },
  {
   "cell_type": "code",
   "execution_count": 19,
   "id": "59478a09",
   "metadata": {},
   "outputs": [
    {
     "name": "stdout",
     "output_type": "stream",
     "text": [
      "a    10\n",
      "b    20\n",
      "c    30\n",
      "dtype: int64 \n",
      "\n",
      "a    10\n",
      "b    20\n",
      "c    30\n",
      "dtype: int32 \n",
      "\n",
      "a    10\n",
      "b    20\n",
      "c    30\n",
      "dtype: int64 \n",
      "\n"
     ]
    }
   ],
   "source": [
    "labels = ['a','b','c']\n",
    "my_list = [10,20,30]\n",
    "arr = np.array([10,20,30])\n",
    "d = {'a':10,'b':20,'c':30}\n",
    "\n",
    "simpleList = pd.Series(index = labels, data = my_list)\n",
    "simpleNPARRAY = pd.Series(index= labels, data = arr)\n",
    "simpleDict = pd.Series(d)\n",
    "\n",
    "print(simpleList, \"\\n\")\n",
    "print(simpleNPARRAY,\"\\n\")\n",
    "print(simpleDict,\"\\n\")"
   ]
  },
  {
   "cell_type": "markdown",
   "id": "3af65f89",
   "metadata": {},
   "source": [
    "## Selecting an index"
   ]
  },
  {
   "cell_type": "code",
   "execution_count": 27,
   "id": "b5e6fab8",
   "metadata": {},
   "outputs": [
    {
     "name": "stdout",
     "output_type": "stream",
     "text": [
      "Please select one number between 1 and 53\n",
      "The number 3 has the value of: CHI \n"
     ]
    }
   ],
   "source": [
    "index = np.arange(1,6)\n",
    "countries = np.array([\"USA\", \"GER\", \"CHI\", \"ITA\", \"CRC\"])\n",
    "\n",
    "serieCountries = pd.Series( data = countries, index = index)\n",
    "#print(serieCountries)\n",
    "\n",
    "indexNumber = int(input(\"Please select one number between 1 and 5\"))\n",
    "print(f\"The number {indexNumber} has the value of: {serieCountries[indexNumber]} \")"
   ]
  },
  {
   "cell_type": "markdown",
   "id": "f8047296",
   "metadata": {},
   "source": [
    "## Selecting an index 2"
   ]
  },
  {
   "cell_type": "code",
   "execution_count": 43,
   "id": "ebcff09e",
   "metadata": {},
   "outputs": [
    {
     "name": "stdout",
     "output_type": "stream",
     "text": [
      "I can be done by simple slicing \n",
      " 3    CHI\n",
      "4    ITA\n",
      "dtype: object \n",
      "\n",
      "I can be done by pandas iloc \n",
      " ITA\n",
      "\n",
      "I can be done by X top number \n",
      " 1    USA\n",
      "2    GER\n",
      "3    CHI\n",
      "dtype: object\n",
      "\n",
      "I can be done by X bottom number \n",
      " 4    ITA\n",
      "5    CRC\n",
      "dtype: object\n",
      "\n",
      "1    USA\n",
      "5    CRC\n",
      "dtype: object\n"
     ]
    }
   ],
   "source": [
    "print(f\"I can be done by simple slicing \\n {serieCountries[2:4]} \\n\")\n",
    "print(f\"I can be done by pandas iloc \\n {serieCountries.iloc[3]}\\n\")\n",
    "print(f\"I can be done by X top number \\n {serieCountries.head(3)}\\n\")\n",
    "print(f\"I can be done by X bottom number \\n {serieCountries.tail(2)}\\n\")\n",
    " \n",
    "justAmericaContries = (serieCountries == \"USA\" )| (serieCountries == \"CRC\")\n",
    "print(serieCountries[justAmericaContries])\n"
   ]
  },
  {
   "cell_type": "markdown",
   "id": "bd9ec8a6",
   "metadata": {},
   "source": [
    "## More info about Series"
   ]
  },
  {
   "cell_type": "code",
   "execution_count": 28,
   "id": "60f94a11",
   "metadata": {},
   "outputs": [
    {
     "name": "stdout",
     "output_type": "stream",
     "text": [
      "Int64Index([1, 2, 3, 4, 5], dtype='int64')\n",
      "['USA' 'GER' 'CHI' 'ITA' 'CRC']\n",
      "object\n",
      "5\n",
      "(5,)\n"
     ]
    }
   ],
   "source": [
    "\n",
    "print(serieCountries.index)\n",
    "\n",
    "\n",
    "print(serieCountries.values)\n",
    "\n",
    "\n",
    "print(serieCountries.dtype)\n",
    "\n",
    "\n",
    "print(serieCountries.size)\n",
    "\n",
    "print(serieCountries.shape)"
   ]
  },
  {
   "cell_type": "markdown",
   "id": "dd67bfcb",
   "metadata": {},
   "source": [
    "## Ordering values"
   ]
  },
  {
   "cell_type": "code",
   "execution_count": 48,
   "id": "1a0b0c3a",
   "metadata": {},
   "outputs": [
    {
     "name": "stdout",
     "output_type": "stream",
     "text": [
      "RED      34\n",
      "BLUE     43\n",
      "GREEN    45\n",
      "dtype: int32\n",
      "This is the ordered list: \n",
      " RED      34\n",
      "BLUE     43\n",
      "GREEN    45\n",
      "dtype: int32\n",
      "This is the ordered list: \n",
      " GREEN    45\n",
      "BLUE     43\n",
      "RED      34\n",
      "dtype: int32\n"
     ]
    }
   ],
   "source": [
    "labels = np.array([\"RED\", \"BLUE\", \"GREEN\"])\n",
    "values = np.array([34,43,45])\n",
    "dataset = pd.Series(data=values, index= labels)\n",
    "print(dataset)\n",
    "\n",
    "orderlist = dataset.sort_values()\n",
    "print(f\"This is the ordered list: \\n {orderlist}\")\n",
    "\n",
    "orderlist = dataset.sort_values(ascending=False)\n",
    "print(f\"This is the ordered list: \\n {orderlist}\")"
   ]
  },
  {
   "cell_type": "markdown",
   "id": "3006306e",
   "metadata": {},
   "source": [
    "## Math"
   ]
  },
  {
   "cell_type": "code",
   "execution_count": 59,
   "id": "bb5b7e51",
   "metadata": {},
   "outputs": [
    {
     "name": "stdout",
     "output_type": "stream",
     "text": [
      "0     4\n",
      "1    12\n",
      "2    20\n",
      "3    28\n",
      "dtype: int64\n",
      "0     5\n",
      "1     7\n",
      "2     9\n",
      "3    11\n",
      "dtype: int64\n",
      "0   -3\n",
      "1   -1\n",
      "2    1\n",
      "3    3\n",
      "dtype: int64\n",
      "0    0.25\n",
      "1    0.75\n",
      "2    1.25\n",
      "3    1.75\n",
      "dtype: float64\n"
     ]
    }
   ],
   "source": [
    "mathList = pd.Series([1,3,5,7])\n",
    "\n",
    "print(mathList*4)\n",
    "print(mathList+4)\n",
    "print(mathList-4)\n",
    "print(mathList/4)"
   ]
  },
  {
   "cell_type": "markdown",
   "id": "8606ced0",
   "metadata": {},
   "source": [
    "## Counting values"
   ]
  },
  {
   "cell_type": "code",
   "execution_count": 53,
   "id": "6e49a4c1",
   "metadata": {},
   "outputs": [
    {
     "name": "stdout",
     "output_type": "stream",
     "text": [
      "False    5\n",
      "True     4\n",
      "dtype: int64\n",
      "2\n"
     ]
    }
   ],
   "source": [
    "repetitiveList = pd.Series([True,False, True, True, False, False, False, True, False])\n",
    "\n",
    "countingBollList = repetitiveList.value_counts()\n",
    "\n",
    "print(countingBollList)\n",
    "print(countingBollList.nunique())"
   ]
  },
  {
   "cell_type": "markdown",
   "id": "4cf14e4f",
   "metadata": {},
   "source": [
    "## Unique values"
   ]
  },
  {
   "cell_type": "code",
   "execution_count": 56,
   "id": "b0a15d01",
   "metadata": {},
   "outputs": [
    {
     "name": "stdout",
     "output_type": "stream",
     "text": [
      "[5 4]\n",
      "2\n",
      "2\n"
     ]
    }
   ],
   "source": [
    "print(countingBollList.unique())\n",
    "print(countingBollList.nunique())\n",
    "print(countingBollList.count())\n"
   ]
  },
  {
   "cell_type": "markdown",
   "id": "a3c94faf",
   "metadata": {},
   "source": [
    "## Converting into"
   ]
  },
  {
   "cell_type": "code",
   "execution_count": null,
   "id": "01a3a07e",
   "metadata": {},
   "outputs": [],
   "source": [
    "dataset.to_list()\n",
    "dataset.to_dict() \n",
    "dataset.to_csv() \n",
    "dataset.to_json() \n",
    "dataset.name = 'new Name'\n",
    "dataset.to_frame() "
   ]
  },
  {
   "cell_type": "markdown",
   "id": "ead375e6",
   "metadata": {},
   "source": [
    "# DATAFRAMES"
   ]
  },
  {
   "cell_type": "code",
   "execution_count": null,
   "id": "1b8d7a91",
   "metadata": {},
   "outputs": [],
   "source": [
    "##Create a DataFrame"
   ]
  },
  {
   "cell_type": "code",
   "execution_count": 5,
   "id": "b2b7aeec",
   "metadata": {},
   "outputs": [
    {
     "name": "stdout",
     "output_type": "stream",
     "text": [
      "           RED  BLUE\n",
      "Monday       4     6\n",
      "Tuesday      5     3\n",
      "Wednesday    6     5\n",
      "Thursday     7     7\n"
     ]
    }
   ],
   "source": [
    "dic = {\"RED\": [4,5,6,7], \"BLUE\": [6,3,5,7]}\n",
    "pdDic = pd.DataFrame(dic, index = (\"Monday\", \"Tuesday\", \"Wednesday\", \"Thursday\"))\n",
    "print(pdDic)"
   ]
  },
  {
   "cell_type": "markdown",
   "id": "10ea7e3b",
   "metadata": {},
   "source": [
    "## Create a new column"
   ]
  },
  {
   "cell_type": "code",
   "execution_count": 6,
   "id": "ad49ddae",
   "metadata": {},
   "outputs": [
    {
     "name": "stdout",
     "output_type": "stream",
     "text": [
      "           RED  BLUE  GREEN\n",
      "Monday       4     6      5\n",
      "Tuesday      5     3      8\n",
      "Wednesday    6     5      2\n",
      "Thursday     7     7      3\n"
     ]
    }
   ],
   "source": [
    "pdDic[\"GREEN\"] = (5,8,2,3)\n",
    "print(pdDic)"
   ]
  },
  {
   "cell_type": "markdown",
   "id": "3cc195a4",
   "metadata": {},
   "source": [
    "## Drop a column"
   ]
  },
  {
   "cell_type": "code",
   "execution_count": 30,
   "id": "e1a4ea84",
   "metadata": {},
   "outputs": [
    {
     "name": "stdout",
     "output_type": "stream",
     "text": [
      "           RED  GREEN\n",
      "Monday       4      5\n",
      "Tuesday      5      8\n",
      "Wednesday    6      2\n",
      "Thursday     7      3\n"
     ]
    }
   ],
   "source": [
    "backupPdDic = pdDic.copy()\n",
    "backupPdDic.drop(\"BLUE\", axis = 1, inplace = True)\n",
    "print(backupPdDic)"
   ]
  },
  {
   "cell_type": "markdown",
   "id": "40bfd23d",
   "metadata": {},
   "source": [
    "## Edit Info"
   ]
  },
  {
   "cell_type": "code",
   "execution_count": 87,
   "id": "1676b5df",
   "metadata": {},
   "outputs": [
    {
     "name": "stdout",
     "output_type": "stream",
     "text": [
      "           RED  BLUE  GREEN\n",
      "Monday       4     6      5\n",
      "Tuesday     50     3      8\n",
      "Wednesday    6     5      2\n",
      "Thursday     7     7      3\n",
      "           PINK  LIGHTBLUE  GREEN\n",
      "Monday        4          6      5\n",
      "Tuesday      50          3      8\n",
      "Wednesday     6          5      2\n",
      "Thursday      7          7      3\n"
     ]
    }
   ],
   "source": [
    "backupPdDic= pdDic.copy()\n",
    "backupPdDic.loc[\"Tuesday\",\"RED\"] = 50\n",
    "print(backupPdDic)\n",
    "\n",
    "backupPdDic.rename(columns={\"RED\": \"PINK\", \"BLUE\": \"LIGHTBLUE\"}, inplace = True)\n",
    "print(backupPdDic)\n"
   ]
  },
  {
   "cell_type": "code",
   "execution_count": null,
   "id": "1cd95e18",
   "metadata": {},
   "outputs": [],
   "source": [
    "backupPdDic[\"PINK\"].str.lower()\n",
    "backupPdDic[\"PINK\"].str.replace(\" \", \"\")"
   ]
  },
  {
   "cell_type": "markdown",
   "id": "cac21785",
   "metadata": {},
   "source": [
    "## You can get more info from the DataFrames"
   ]
  },
  {
   "cell_type": "code",
   "execution_count": 31,
   "id": "488bdd2b",
   "metadata": {},
   "outputs": [
    {
     "name": "stdout",
     "output_type": "stream",
     "text": [
      "<class 'pandas.core.frame.DataFrame'>\n",
      "Index: 4 entries, Monday to Thursday\n",
      "Data columns (total 3 columns):\n",
      " #   Column  Non-Null Count  Dtype\n",
      "---  ------  --------------  -----\n",
      " 0   RED     4 non-null      int64\n",
      " 1   BLUE    4 non-null      int64\n",
      " 2   GREEN   4 non-null      int64\n",
      "dtypes: int64(3)\n",
      "memory usage: 300.0+ bytes\n",
      "None \n",
      "\n",
      "12 \n",
      "\n",
      "(4, 3) \n",
      "\n",
      "            RED      BLUE     GREEN\n",
      "count  4.000000  4.000000  4.000000\n",
      "mean   5.500000  5.250000  4.500000\n",
      "std    1.290994  1.707825  2.645751\n",
      "min    4.000000  3.000000  2.000000\n",
      "25%    4.750000  4.500000  2.750000\n",
      "50%    5.500000  5.500000  4.000000\n",
      "75%    6.250000  6.250000  5.750000\n",
      "max    7.000000  7.000000  8.000000 \n",
      "\n",
      "2 \n",
      "\n",
      "Index(['Monday', 'Tuesday', 'Wednesday', 'Thursday'], dtype='object') \n",
      "\n",
      "Index(['RED', 'BLUE', 'GREEN'], dtype='object') \n",
      "\n"
     ]
    }
   ],
   "source": [
    "print(pdDic.info(), \"\\n\")\n",
    "print(pdDic.size, \"\\n\")\n",
    "print(pdDic.shape, \"\\n\")\n",
    "print(pdDic.describe(), \"\\n\")\n",
    "print(pdDic.ndim, \"\\n\")\n",
    "print(pdDic.index, \"\\n\")\n",
    "print(pdDic.columns, \"\\n\")"
   ]
  },
  {
   "cell_type": "markdown",
   "id": "fb659e03",
   "metadata": {},
   "source": [
    "# Slicing by loc and iloc"
   ]
  },
  {
   "cell_type": "code",
   "execution_count": 14,
   "id": "25b5c156",
   "metadata": {},
   "outputs": [
    {
     "name": "stdout",
     "output_type": "stream",
     "text": [
      "RED      4\n",
      "BLUE     6\n",
      "GREEN    5\n",
      "Name: Monday, dtype: int64 \n",
      "\n",
      "RED      7\n",
      "BLUE     7\n",
      "GREEN    3\n",
      "Name: Thursday, dtype: int64\n"
     ]
    }
   ],
   "source": [
    "print(pdDic.loc[\"Monday\"], \"\\n\")\n",
    "print(pdDic.iloc[3])"
   ]
  },
  {
   "cell_type": "code",
   "execution_count": 22,
   "id": "b7baa1a6",
   "metadata": {},
   "outputs": [
    {
     "name": "stdout",
     "output_type": "stream",
     "text": [
      "           RED  BLUE  GREEN\n",
      "Wednesday    6     5      2\n",
      "Thursday     7     7      3 \n",
      "\n",
      "           RED  BLUE  GREEN\n",
      "Monday       4     6      5\n",
      "Wednesday    6     5      2 \n",
      "\n",
      "          RED  BLUE  GREEN\n",
      "Monday      4     6      5\n",
      "Thursday    7     7      3 \n",
      "\n"
     ]
    }
   ],
   "source": [
    "print(pdDic.iloc[2:4], \"\\n\")\n",
    "print(pdDic.iloc[::2], \"\\n\")\n",
    "print(pdDic.loc[[\"Monday\", \"Thursday\"]], \"\\n\")"
   ]
  },
  {
   "cell_type": "markdown",
   "id": "338c80bb",
   "metadata": {},
   "source": [
    "## Conditionals"
   ]
  },
  {
   "cell_type": "code",
   "execution_count": 39,
   "id": "739d52f4",
   "metadata": {},
   "outputs": [
    {
     "name": "stdout",
     "output_type": "stream",
     "text": [
      "Wednesday    6\n",
      "Thursday     7\n",
      "Name: RED, dtype: int64 \n",
      "\n",
      "           RED  BLUE  GREEN\n",
      "Monday     4.0   6.0    5.0\n",
      "Tuesday    5.0   NaN    NaN\n",
      "Wednesday  6.0   5.0    NaN\n",
      "Thursday   NaN   NaN    NaN \n",
      "\n",
      "           RED  BLUE  GREEN\n",
      "Monday     NaN   NaN    5.0\n",
      "Tuesday    5.0   3.0    NaN\n",
      "Wednesday  NaN   5.0    NaN\n",
      "Thursday   NaN   NaN    3.0 \n",
      "\n"
     ]
    }
   ],
   "source": [
    "redMoreThanFive = pdDic[\"RED\"] > 5\n",
    "print(pdDic.RED[redMoreThanFive], \"\\n\")\n",
    "\n",
    "between3And5 =  (pdDic > 3)  & (pdDic<7)\n",
    "print(pdDic[between3And5], \"\\n\")\n",
    "\n",
    "haveWhere3Or5 = pdDic.isin([3,5])\n",
    "print(pdDic[haveWhere3Or5], \"\\n\")"
   ]
  },
  {
   "cell_type": "markdown",
   "id": "e2a42b6b",
   "metadata": {},
   "source": [
    "## Other Methods"
   ]
  },
  {
   "cell_type": "code",
   "execution_count": 63,
   "id": "cc504689",
   "metadata": {},
   "outputs": [
    {
     "name": "stdout",
     "output_type": "stream",
     "text": [
      "[7 3]\n",
      "5.5\n"
     ]
    }
   ],
   "source": [
    "print(pdDic.loc[\"Thursday\"].unique())\n",
    "\n",
    "print(pdDic[\"RED\"].mean())\n"
   ]
  },
  {
   "cell_type": "markdown",
   "id": "a4b0aed6",
   "metadata": {},
   "source": [
    "## Reording"
   ]
  },
  {
   "cell_type": "code",
   "execution_count": 64,
   "id": "d13931af",
   "metadata": {},
   "outputs": [
    {
     "name": "stdout",
     "output_type": "stream",
     "text": [
      "           GREEN  RED  BLUE\n",
      "Monday         5    4     6\n",
      "Tuesday        8    5     3\n",
      "Wednesday      2    6     5\n",
      "Thursday       3    7     7\n"
     ]
    }
   ],
   "source": [
    "pdReordered = pdDic[[\"GREEN\", \"RED\", \"BLUE\"]]\n",
    "print(pdReordered)"
   ]
  },
  {
   "cell_type": "markdown",
   "id": "cbd9923d",
   "metadata": {},
   "source": [
    "## MultiIndex"
   ]
  },
  {
   "cell_type": "code",
   "execution_count": 106,
   "id": "12a7a032",
   "metadata": {},
   "outputs": [
    {
     "name": "stdout",
     "output_type": "stream",
     "text": [
      "                       A         B\n",
      "RED  PINK       0.263053 -0.296744\n",
      "     DARKRED    1.964273  0.880675\n",
      "BLUE LIGHTBLUE -0.728961  0.171798\n",
      "     DARKBLUE   0.849123  1.331422\n"
     ]
    }
   ],
   "source": [
    "mainColors = np.array([\"RED\", \"RED\", \"BLUE\", \"BLUE\"])\n",
    "secondaryColors = np.array([\"PINK\", \"DARKRED\", \"LIGHTBLUE\", \"DARKBLUE\"])\n",
    "multiIndex = list(zip(mainColors,secondaryColors))\n",
    "multiIndex = pd.MultiIndex.from_tuples(multiIndex)\n",
    "data = np.random.randn(4,2)\n",
    "cols = [\"A\", \"B\"]\n",
    "\n",
    "df = pd.DataFrame(data, index = multiIndex, columns= cols)\n",
    "\n",
    "print(df)"
   ]
  },
  {
   "cell_type": "code",
   "execution_count": 107,
   "id": "3a8e4bf5",
   "metadata": {},
   "outputs": [
    {
     "data": {
      "text/html": [
       "<div>\n",
       "<style scoped>\n",
       "    .dataframe tbody tr th:only-of-type {\n",
       "        vertical-align: middle;\n",
       "    }\n",
       "\n",
       "    .dataframe tbody tr th {\n",
       "        vertical-align: top;\n",
       "    }\n",
       "\n",
       "    .dataframe thead th {\n",
       "        text-align: right;\n",
       "    }\n",
       "</style>\n",
       "<table border=\"1\" class=\"dataframe\">\n",
       "  <thead>\n",
       "    <tr style=\"text-align: right;\">\n",
       "      <th></th>\n",
       "      <th>A</th>\n",
       "      <th>B</th>\n",
       "    </tr>\n",
       "  </thead>\n",
       "  <tbody>\n",
       "    <tr>\n",
       "      <th>PINK</th>\n",
       "      <td>0.263053</td>\n",
       "      <td>-0.296744</td>\n",
       "    </tr>\n",
       "    <tr>\n",
       "      <th>DARKRED</th>\n",
       "      <td>1.964273</td>\n",
       "      <td>0.880675</td>\n",
       "    </tr>\n",
       "  </tbody>\n",
       "</table>\n",
       "</div>"
      ],
      "text/plain": [
       "                A         B\n",
       "PINK     0.263053 -0.296744\n",
       "DARKRED  1.964273  0.880675"
      ]
     },
     "execution_count": 107,
     "metadata": {},
     "output_type": "execute_result"
    }
   ],
   "source": [
    "df.loc[\"RED\"]"
   ]
  },
  {
   "cell_type": "code",
   "execution_count": 108,
   "id": "9ef16ae0",
   "metadata": {},
   "outputs": [
    {
     "data": {
      "text/plain": [
       "A    0.849123\n",
       "B    1.331422\n",
       "Name: DARKBLUE, dtype: float64"
      ]
     },
     "execution_count": 108,
     "metadata": {},
     "output_type": "execute_result"
    }
   ],
   "source": [
    "df.loc[\"BLUE\"].loc[\"DARKBLUE\"]"
   ]
  },
  {
   "cell_type": "code",
   "execution_count": 112,
   "id": "d002522c",
   "metadata": {},
   "outputs": [
    {
     "data": {
      "text/html": [
       "<div>\n",
       "<style scoped>\n",
       "    .dataframe tbody tr th:only-of-type {\n",
       "        vertical-align: middle;\n",
       "    }\n",
       "\n",
       "    .dataframe tbody tr th {\n",
       "        vertical-align: top;\n",
       "    }\n",
       "\n",
       "    .dataframe thead th {\n",
       "        text-align: right;\n",
       "    }\n",
       "</style>\n",
       "<table border=\"1\" class=\"dataframe\">\n",
       "  <thead>\n",
       "    <tr style=\"text-align: right;\">\n",
       "      <th></th>\n",
       "      <th></th>\n",
       "      <th>A</th>\n",
       "      <th>B</th>\n",
       "    </tr>\n",
       "    <tr>\n",
       "      <th>MAIN</th>\n",
       "      <th>SECONDARY</th>\n",
       "      <th></th>\n",
       "      <th></th>\n",
       "    </tr>\n",
       "  </thead>\n",
       "  <tbody>\n",
       "    <tr>\n",
       "      <th rowspan=\"2\" valign=\"top\">RED</th>\n",
       "      <th>PINK</th>\n",
       "      <td>0.263053</td>\n",
       "      <td>-0.296744</td>\n",
       "    </tr>\n",
       "    <tr>\n",
       "      <th>DARKRED</th>\n",
       "      <td>1.964273</td>\n",
       "      <td>0.880675</td>\n",
       "    </tr>\n",
       "    <tr>\n",
       "      <th rowspan=\"2\" valign=\"top\">BLUE</th>\n",
       "      <th>LIGHTBLUE</th>\n",
       "      <td>-0.728961</td>\n",
       "      <td>0.171798</td>\n",
       "    </tr>\n",
       "    <tr>\n",
       "      <th>DARKBLUE</th>\n",
       "      <td>0.849123</td>\n",
       "      <td>1.331422</td>\n",
       "    </tr>\n",
       "  </tbody>\n",
       "</table>\n",
       "</div>"
      ],
      "text/plain": [
       "                       A         B\n",
       "MAIN SECONDARY                    \n",
       "RED  PINK       0.263053 -0.296744\n",
       "     DARKRED    1.964273  0.880675\n",
       "BLUE LIGHTBLUE -0.728961  0.171798\n",
       "     DARKBLUE   0.849123  1.331422"
      ]
     },
     "execution_count": 112,
     "metadata": {},
     "output_type": "execute_result"
    }
   ],
   "source": [
    "df.index.names = ([\"MAIN\", \"SECONDARY\"])\n",
    "df"
   ]
  },
  {
   "cell_type": "markdown",
   "id": "532568f9",
   "metadata": {},
   "source": [
    "# MISSING VALUES"
   ]
  },
  {
   "cell_type": "code",
   "execution_count": 2,
   "id": "264a5854",
   "metadata": {},
   "outputs": [
    {
     "data": {
      "text/html": [
       "<div>\n",
       "<style scoped>\n",
       "    .dataframe tbody tr th:only-of-type {\n",
       "        vertical-align: middle;\n",
       "    }\n",
       "\n",
       "    .dataframe tbody tr th {\n",
       "        vertical-align: top;\n",
       "    }\n",
       "\n",
       "    .dataframe thead th {\n",
       "        text-align: right;\n",
       "    }\n",
       "</style>\n",
       "<table border=\"1\" class=\"dataframe\">\n",
       "  <thead>\n",
       "    <tr style=\"text-align: right;\">\n",
       "      <th></th>\n",
       "      <th>A</th>\n",
       "      <th>B</th>\n",
       "      <th>C</th>\n",
       "    </tr>\n",
       "  </thead>\n",
       "  <tbody>\n",
       "    <tr>\n",
       "      <th>0</th>\n",
       "      <td>1.0</td>\n",
       "      <td>5.0</td>\n",
       "      <td>1</td>\n",
       "    </tr>\n",
       "    <tr>\n",
       "      <th>1</th>\n",
       "      <td>2.0</td>\n",
       "      <td>NaN</td>\n",
       "      <td>2</td>\n",
       "    </tr>\n",
       "    <tr>\n",
       "      <th>2</th>\n",
       "      <td>NaN</td>\n",
       "      <td>NaN</td>\n",
       "      <td>3</td>\n",
       "    </tr>\n",
       "  </tbody>\n",
       "</table>\n",
       "</div>"
      ],
      "text/plain": [
       "     A    B  C\n",
       "0  1.0  5.0  1\n",
       "1  2.0  NaN  2\n",
       "2  NaN  NaN  3"
      ]
     },
     "execution_count": 2,
     "metadata": {},
     "output_type": "execute_result"
    }
   ],
   "source": [
    "dfWithNAN = pd.DataFrame({'A':[1,2,np.nan],\n",
    "                  'B':[5,np.nan,np.nan],\n",
    "                  'C':[1,2,3]})\n",
    "dfWithNAN"
   ]
  },
  {
   "cell_type": "code",
   "execution_count": 33,
   "id": "26b93e46",
   "metadata": {},
   "outputs": [
    {
     "data": {
      "text/html": [
       "<div>\n",
       "<style scoped>\n",
       "    .dataframe tbody tr th:only-of-type {\n",
       "        vertical-align: middle;\n",
       "    }\n",
       "\n",
       "    .dataframe tbody tr th {\n",
       "        vertical-align: top;\n",
       "    }\n",
       "\n",
       "    .dataframe thead th {\n",
       "        text-align: right;\n",
       "    }\n",
       "</style>\n",
       "<table border=\"1\" class=\"dataframe\">\n",
       "  <thead>\n",
       "    <tr style=\"text-align: right;\">\n",
       "      <th></th>\n",
       "      <th>A</th>\n",
       "      <th>B</th>\n",
       "      <th>C</th>\n",
       "    </tr>\n",
       "  </thead>\n",
       "  <tbody>\n",
       "    <tr>\n",
       "      <th>0</th>\n",
       "      <td>False</td>\n",
       "      <td>False</td>\n",
       "      <td>False</td>\n",
       "    </tr>\n",
       "    <tr>\n",
       "      <th>1</th>\n",
       "      <td>False</td>\n",
       "      <td>True</td>\n",
       "      <td>False</td>\n",
       "    </tr>\n",
       "    <tr>\n",
       "      <th>2</th>\n",
       "      <td>True</td>\n",
       "      <td>True</td>\n",
       "      <td>False</td>\n",
       "    </tr>\n",
       "  </tbody>\n",
       "</table>\n",
       "</div>"
      ],
      "text/plain": [
       "       A      B      C\n",
       "0  False  False  False\n",
       "1  False   True  False\n",
       "2   True   True  False"
      ]
     },
     "execution_count": 33,
     "metadata": {},
     "output_type": "execute_result"
    }
   ],
   "source": [
    "dfWithNAN.isnull()"
   ]
  },
  {
   "cell_type": "code",
   "execution_count": 3,
   "id": "626c1716",
   "metadata": {},
   "outputs": [
    {
     "data": {
      "text/html": [
       "<div>\n",
       "<style scoped>\n",
       "    .dataframe tbody tr th:only-of-type {\n",
       "        vertical-align: middle;\n",
       "    }\n",
       "\n",
       "    .dataframe tbody tr th {\n",
       "        vertical-align: top;\n",
       "    }\n",
       "\n",
       "    .dataframe thead th {\n",
       "        text-align: right;\n",
       "    }\n",
       "</style>\n",
       "<table border=\"1\" class=\"dataframe\">\n",
       "  <thead>\n",
       "    <tr style=\"text-align: right;\">\n",
       "      <th></th>\n",
       "      <th>C</th>\n",
       "    </tr>\n",
       "  </thead>\n",
       "  <tbody>\n",
       "    <tr>\n",
       "      <th>0</th>\n",
       "      <td>1</td>\n",
       "    </tr>\n",
       "    <tr>\n",
       "      <th>1</th>\n",
       "      <td>2</td>\n",
       "    </tr>\n",
       "    <tr>\n",
       "      <th>2</th>\n",
       "      <td>3</td>\n",
       "    </tr>\n",
       "  </tbody>\n",
       "</table>\n",
       "</div>"
      ],
      "text/plain": [
       "   C\n",
       "0  1\n",
       "1  2\n",
       "2  3"
      ]
     },
     "execution_count": 3,
     "metadata": {},
     "output_type": "execute_result"
    }
   ],
   "source": [
    "dfWithNAN.dropna(axis=1)"
   ]
  },
  {
   "cell_type": "code",
   "execution_count": 4,
   "id": "dfe7f9a4",
   "metadata": {},
   "outputs": [
    {
     "data": {
      "text/html": [
       "<div>\n",
       "<style scoped>\n",
       "    .dataframe tbody tr th:only-of-type {\n",
       "        vertical-align: middle;\n",
       "    }\n",
       "\n",
       "    .dataframe tbody tr th {\n",
       "        vertical-align: top;\n",
       "    }\n",
       "\n",
       "    .dataframe thead th {\n",
       "        text-align: right;\n",
       "    }\n",
       "</style>\n",
       "<table border=\"1\" class=\"dataframe\">\n",
       "  <thead>\n",
       "    <tr style=\"text-align: right;\">\n",
       "      <th></th>\n",
       "      <th>A</th>\n",
       "      <th>B</th>\n",
       "      <th>C</th>\n",
       "    </tr>\n",
       "  </thead>\n",
       "  <tbody>\n",
       "    <tr>\n",
       "      <th>0</th>\n",
       "      <td>1.0</td>\n",
       "      <td>5.0</td>\n",
       "      <td>1</td>\n",
       "    </tr>\n",
       "  </tbody>\n",
       "</table>\n",
       "</div>"
      ],
      "text/plain": [
       "     A    B  C\n",
       "0  1.0  5.0  1"
      ]
     },
     "execution_count": 4,
     "metadata": {},
     "output_type": "execute_result"
    }
   ],
   "source": [
    "dfWithNAN.dropna()"
   ]
  },
  {
   "cell_type": "code",
   "execution_count": 5,
   "id": "93f36b64",
   "metadata": {},
   "outputs": [
    {
     "data": {
      "text/html": [
       "<div>\n",
       "<style scoped>\n",
       "    .dataframe tbody tr th:only-of-type {\n",
       "        vertical-align: middle;\n",
       "    }\n",
       "\n",
       "    .dataframe tbody tr th {\n",
       "        vertical-align: top;\n",
       "    }\n",
       "\n",
       "    .dataframe thead th {\n",
       "        text-align: right;\n",
       "    }\n",
       "</style>\n",
       "<table border=\"1\" class=\"dataframe\">\n",
       "  <thead>\n",
       "    <tr style=\"text-align: right;\">\n",
       "      <th></th>\n",
       "      <th>A</th>\n",
       "      <th>B</th>\n",
       "      <th>C</th>\n",
       "    </tr>\n",
       "  </thead>\n",
       "  <tbody>\n",
       "    <tr>\n",
       "      <th>0</th>\n",
       "      <td>1.0</td>\n",
       "      <td>5.0</td>\n",
       "      <td>1</td>\n",
       "    </tr>\n",
       "    <tr>\n",
       "      <th>1</th>\n",
       "      <td>2.0</td>\n",
       "      <td>NaN</td>\n",
       "      <td>2</td>\n",
       "    </tr>\n",
       "  </tbody>\n",
       "</table>\n",
       "</div>"
      ],
      "text/plain": [
       "     A    B  C\n",
       "0  1.0  5.0  1\n",
       "1  2.0  NaN  2"
      ]
     },
     "execution_count": 5,
     "metadata": {},
     "output_type": "execute_result"
    }
   ],
   "source": [
    "dfWithNAN.dropna(axis = 0, thresh = 2)"
   ]
  },
  {
   "cell_type": "code",
   "execution_count": 6,
   "id": "d27ba83f",
   "metadata": {},
   "outputs": [
    {
     "data": {
      "text/html": [
       "<div>\n",
       "<style scoped>\n",
       "    .dataframe tbody tr th:only-of-type {\n",
       "        vertical-align: middle;\n",
       "    }\n",
       "\n",
       "    .dataframe tbody tr th {\n",
       "        vertical-align: top;\n",
       "    }\n",
       "\n",
       "    .dataframe thead th {\n",
       "        text-align: right;\n",
       "    }\n",
       "</style>\n",
       "<table border=\"1\" class=\"dataframe\">\n",
       "  <thead>\n",
       "    <tr style=\"text-align: right;\">\n",
       "      <th></th>\n",
       "      <th>A</th>\n",
       "      <th>B</th>\n",
       "      <th>C</th>\n",
       "    </tr>\n",
       "  </thead>\n",
       "  <tbody>\n",
       "    <tr>\n",
       "      <th>0</th>\n",
       "      <td>1.0</td>\n",
       "      <td>5.0</td>\n",
       "      <td>1</td>\n",
       "    </tr>\n",
       "    <tr>\n",
       "      <th>1</th>\n",
       "      <td>2.0</td>\n",
       "      <td>4.0</td>\n",
       "      <td>2</td>\n",
       "    </tr>\n",
       "    <tr>\n",
       "      <th>2</th>\n",
       "      <td>4.0</td>\n",
       "      <td>4.0</td>\n",
       "      <td>3</td>\n",
       "    </tr>\n",
       "  </tbody>\n",
       "</table>\n",
       "</div>"
      ],
      "text/plain": [
       "     A    B  C\n",
       "0  1.0  5.0  1\n",
       "1  2.0  4.0  2\n",
       "2  4.0  4.0  3"
      ]
     },
     "execution_count": 6,
     "metadata": {},
     "output_type": "execute_result"
    }
   ],
   "source": [
    "dfWithNAN.fillna(value=4)"
   ]
  },
  {
   "cell_type": "code",
   "execution_count": 7,
   "id": "f5097858",
   "metadata": {},
   "outputs": [
    {
     "data": {
      "text/html": [
       "<div>\n",
       "<style scoped>\n",
       "    .dataframe tbody tr th:only-of-type {\n",
       "        vertical-align: middle;\n",
       "    }\n",
       "\n",
       "    .dataframe tbody tr th {\n",
       "        vertical-align: top;\n",
       "    }\n",
       "\n",
       "    .dataframe thead th {\n",
       "        text-align: right;\n",
       "    }\n",
       "</style>\n",
       "<table border=\"1\" class=\"dataframe\">\n",
       "  <thead>\n",
       "    <tr style=\"text-align: right;\">\n",
       "      <th></th>\n",
       "      <th>A</th>\n",
       "      <th>B</th>\n",
       "      <th>C</th>\n",
       "    </tr>\n",
       "  </thead>\n",
       "  <tbody>\n",
       "    <tr>\n",
       "      <th>0</th>\n",
       "      <td>1.0</td>\n",
       "      <td>5.0</td>\n",
       "      <td>1</td>\n",
       "    </tr>\n",
       "    <tr>\n",
       "      <th>1</th>\n",
       "      <td>2.0</td>\n",
       "      <td>2.0</td>\n",
       "      <td>2</td>\n",
       "    </tr>\n",
       "    <tr>\n",
       "      <th>2</th>\n",
       "      <td>2.0</td>\n",
       "      <td>2.0</td>\n",
       "      <td>3</td>\n",
       "    </tr>\n",
       "  </tbody>\n",
       "</table>\n",
       "</div>"
      ],
      "text/plain": [
       "     A    B  C\n",
       "0  1.0  5.0  1\n",
       "1  2.0  2.0  2\n",
       "2  2.0  2.0  3"
      ]
     },
     "execution_count": 7,
     "metadata": {},
     "output_type": "execute_result"
    }
   ],
   "source": [
    "dfWithNAN.fillna(value = dfWithNAN[\"C\"].median())"
   ]
  },
  {
   "cell_type": "markdown",
   "id": "8991d09f",
   "metadata": {},
   "source": [
    "# GROUP BY, MERGE, CONCAT, JOIN"
   ]
  },
  {
   "cell_type": "markdown",
   "id": "5413922f",
   "metadata": {},
   "source": [
    "## Group By "
   ]
  },
  {
   "cell_type": "code",
   "execution_count": 8,
   "id": "e6cfe61a",
   "metadata": {},
   "outputs": [
    {
     "data": {
      "text/html": [
       "<div>\n",
       "<style scoped>\n",
       "    .dataframe tbody tr th:only-of-type {\n",
       "        vertical-align: middle;\n",
       "    }\n",
       "\n",
       "    .dataframe tbody tr th {\n",
       "        vertical-align: top;\n",
       "    }\n",
       "\n",
       "    .dataframe thead th {\n",
       "        text-align: right;\n",
       "    }\n",
       "</style>\n",
       "<table border=\"1\" class=\"dataframe\">\n",
       "  <thead>\n",
       "    <tr style=\"text-align: right;\">\n",
       "      <th></th>\n",
       "      <th>Product</th>\n",
       "      <th>Quantity</th>\n",
       "    </tr>\n",
       "  </thead>\n",
       "  <tbody>\n",
       "    <tr>\n",
       "      <th>0</th>\n",
       "      <td>Hammer</td>\n",
       "      <td>5</td>\n",
       "    </tr>\n",
       "    <tr>\n",
       "      <th>1</th>\n",
       "      <td>Shovel</td>\n",
       "      <td>2</td>\n",
       "    </tr>\n",
       "    <tr>\n",
       "      <th>2</th>\n",
       "      <td>Saw</td>\n",
       "      <td>3</td>\n",
       "    </tr>\n",
       "    <tr>\n",
       "      <th>3</th>\n",
       "      <td>Axe</td>\n",
       "      <td>6</td>\n",
       "    </tr>\n",
       "    <tr>\n",
       "      <th>4</th>\n",
       "      <td>Shovel</td>\n",
       "      <td>4</td>\n",
       "    </tr>\n",
       "    <tr>\n",
       "      <th>5</th>\n",
       "      <td>Axe</td>\n",
       "      <td>8</td>\n",
       "    </tr>\n",
       "    <tr>\n",
       "      <th>6</th>\n",
       "      <td>Screwdriver</td>\n",
       "      <td>9</td>\n",
       "    </tr>\n",
       "    <tr>\n",
       "      <th>7</th>\n",
       "      <td>Screwdriver</td>\n",
       "      <td>6</td>\n",
       "    </tr>\n",
       "    <tr>\n",
       "      <th>8</th>\n",
       "      <td>Saw</td>\n",
       "      <td>3</td>\n",
       "    </tr>\n",
       "    <tr>\n",
       "      <th>9</th>\n",
       "      <td>Hammer</td>\n",
       "      <td>4</td>\n",
       "    </tr>\n",
       "    <tr>\n",
       "      <th>10</th>\n",
       "      <td>Axe</td>\n",
       "      <td>5</td>\n",
       "    </tr>\n",
       "    <tr>\n",
       "      <th>11</th>\n",
       "      <td>Shovel</td>\n",
       "      <td>5</td>\n",
       "    </tr>\n",
       "    <tr>\n",
       "      <th>12</th>\n",
       "      <td>Axe</td>\n",
       "      <td>4</td>\n",
       "    </tr>\n",
       "    <tr>\n",
       "      <th>13</th>\n",
       "      <td>Shovel</td>\n",
       "      <td>5</td>\n",
       "    </tr>\n",
       "    <tr>\n",
       "      <th>14</th>\n",
       "      <td>Hammer</td>\n",
       "      <td>6</td>\n",
       "    </tr>\n",
       "    <tr>\n",
       "      <th>15</th>\n",
       "      <td>Screwdriver</td>\n",
       "      <td>1</td>\n",
       "    </tr>\n",
       "    <tr>\n",
       "      <th>16</th>\n",
       "      <td>Axe</td>\n",
       "      <td>5</td>\n",
       "    </tr>\n",
       "    <tr>\n",
       "      <th>17</th>\n",
       "      <td>Shovel</td>\n",
       "      <td>7</td>\n",
       "    </tr>\n",
       "    <tr>\n",
       "      <th>18</th>\n",
       "      <td>Axe</td>\n",
       "      <td>6</td>\n",
       "    </tr>\n",
       "  </tbody>\n",
       "</table>\n",
       "</div>"
      ],
      "text/plain": [
       "        Product  Quantity\n",
       "0        Hammer         5\n",
       "1        Shovel         2\n",
       "2           Saw         3\n",
       "3           Axe         6\n",
       "4        Shovel         4\n",
       "5           Axe         8\n",
       "6   Screwdriver         9\n",
       "7   Screwdriver         6\n",
       "8           Saw         3\n",
       "9        Hammer         4\n",
       "10          Axe         5\n",
       "11       Shovel         5\n",
       "12          Axe         4\n",
       "13       Shovel         5\n",
       "14       Hammer         6\n",
       "15  Screwdriver         1\n",
       "16          Axe         5\n",
       "17       Shovel         7\n",
       "18          Axe         6"
      ]
     },
     "execution_count": 8,
     "metadata": {},
     "output_type": "execute_result"
    }
   ],
   "source": [
    "tools = pd.read_excel(\"tools.xlsx\", sheet_name=\"A\")\n",
    "tools"
   ]
  },
  {
   "cell_type": "code",
   "execution_count": 10,
   "id": "bb45d7be",
   "metadata": {},
   "outputs": [
    {
     "data": {
      "text/html": [
       "<div>\n",
       "<style scoped>\n",
       "    .dataframe tbody tr th:only-of-type {\n",
       "        vertical-align: middle;\n",
       "    }\n",
       "\n",
       "    .dataframe tbody tr th {\n",
       "        vertical-align: top;\n",
       "    }\n",
       "\n",
       "    .dataframe thead th {\n",
       "        text-align: right;\n",
       "    }\n",
       "</style>\n",
       "<table border=\"1\" class=\"dataframe\">\n",
       "  <thead>\n",
       "    <tr style=\"text-align: right;\">\n",
       "      <th></th>\n",
       "      <th>Quantity</th>\n",
       "    </tr>\n",
       "    <tr>\n",
       "      <th>Product</th>\n",
       "      <th></th>\n",
       "    </tr>\n",
       "  </thead>\n",
       "  <tbody>\n",
       "    <tr>\n",
       "      <th>Axe</th>\n",
       "      <td>34</td>\n",
       "    </tr>\n",
       "    <tr>\n",
       "      <th>Hammer</th>\n",
       "      <td>15</td>\n",
       "    </tr>\n",
       "    <tr>\n",
       "      <th>Saw</th>\n",
       "      <td>6</td>\n",
       "    </tr>\n",
       "    <tr>\n",
       "      <th>Screwdriver</th>\n",
       "      <td>16</td>\n",
       "    </tr>\n",
       "    <tr>\n",
       "      <th>Shovel</th>\n",
       "      <td>23</td>\n",
       "    </tr>\n",
       "  </tbody>\n",
       "</table>\n",
       "</div>"
      ],
      "text/plain": [
       "             Quantity\n",
       "Product              \n",
       "Axe                34\n",
       "Hammer             15\n",
       "Saw                 6\n",
       "Screwdriver        16\n",
       "Shovel             23"
      ]
     },
     "execution_count": 10,
     "metadata": {},
     "output_type": "execute_result"
    }
   ],
   "source": [
    "gpTOOLS = tools.groupby(\"Product\")[\"Quantity\"].sum()\n",
    "gpTOOLS = pd.DataFrame(gpTOOLS)\n",
    "gpTOOLS"
   ]
  },
  {
   "cell_type": "code",
   "execution_count": 11,
   "id": "b54a4d0d",
   "metadata": {},
   "outputs": [
    {
     "data": {
      "text/html": [
       "<div>\n",
       "<style scoped>\n",
       "    .dataframe tbody tr th:only-of-type {\n",
       "        vertical-align: middle;\n",
       "    }\n",
       "\n",
       "    .dataframe tbody tr th {\n",
       "        vertical-align: top;\n",
       "    }\n",
       "\n",
       "    .dataframe thead th {\n",
       "        text-align: right;\n",
       "    }\n",
       "</style>\n",
       "<table border=\"1\" class=\"dataframe\">\n",
       "  <thead>\n",
       "    <tr style=\"text-align: right;\">\n",
       "      <th></th>\n",
       "      <th>count</th>\n",
       "      <th>mean</th>\n",
       "      <th>std</th>\n",
       "      <th>min</th>\n",
       "      <th>25%</th>\n",
       "      <th>50%</th>\n",
       "      <th>75%</th>\n",
       "      <th>max</th>\n",
       "    </tr>\n",
       "  </thead>\n",
       "  <tbody>\n",
       "    <tr>\n",
       "      <th>Quantity</th>\n",
       "      <td>5.0</td>\n",
       "      <td>18.8</td>\n",
       "      <td>10.425929</td>\n",
       "      <td>6.0</td>\n",
       "      <td>15.0</td>\n",
       "      <td>16.0</td>\n",
       "      <td>23.0</td>\n",
       "      <td>34.0</td>\n",
       "    </tr>\n",
       "  </tbody>\n",
       "</table>\n",
       "</div>"
      ],
      "text/plain": [
       "          count  mean        std  min   25%   50%   75%   max\n",
       "Quantity    5.0  18.8  10.425929  6.0  15.0  16.0  23.0  34.0"
      ]
     },
     "execution_count": 11,
     "metadata": {},
     "output_type": "execute_result"
    }
   ],
   "source": [
    "gpTOOLS.describe().transpose()"
   ]
  },
  {
   "cell_type": "code",
   "execution_count": 31,
   "id": "2b9fc5d5",
   "metadata": {},
   "outputs": [
    {
     "data": {
      "text/html": [
       "<div>\n",
       "<style scoped>\n",
       "    .dataframe tbody tr th:only-of-type {\n",
       "        vertical-align: middle;\n",
       "    }\n",
       "\n",
       "    .dataframe tbody tr th {\n",
       "        vertical-align: top;\n",
       "    }\n",
       "\n",
       "    .dataframe thead th {\n",
       "        text-align: right;\n",
       "    }\n",
       "</style>\n",
       "<table border=\"1\" class=\"dataframe\">\n",
       "  <thead>\n",
       "    <tr style=\"text-align: right;\">\n",
       "      <th></th>\n",
       "      <th>Product</th>\n",
       "      <th>Quantity</th>\n",
       "    </tr>\n",
       "  </thead>\n",
       "  <tbody>\n",
       "    <tr>\n",
       "      <th>6</th>\n",
       "      <td>Screwdriver</td>\n",
       "      <td>9</td>\n",
       "    </tr>\n",
       "    <tr>\n",
       "      <th>5</th>\n",
       "      <td>Axe</td>\n",
       "      <td>8</td>\n",
       "    </tr>\n",
       "    <tr>\n",
       "      <th>17</th>\n",
       "      <td>Shovel</td>\n",
       "      <td>7</td>\n",
       "    </tr>\n",
       "    <tr>\n",
       "      <th>18</th>\n",
       "      <td>Axe</td>\n",
       "      <td>6</td>\n",
       "    </tr>\n",
       "    <tr>\n",
       "      <th>3</th>\n",
       "      <td>Axe</td>\n",
       "      <td>6</td>\n",
       "    </tr>\n",
       "    <tr>\n",
       "      <th>7</th>\n",
       "      <td>Screwdriver</td>\n",
       "      <td>6</td>\n",
       "    </tr>\n",
       "    <tr>\n",
       "      <th>14</th>\n",
       "      <td>Hammer</td>\n",
       "      <td>6</td>\n",
       "    </tr>\n",
       "    <tr>\n",
       "      <th>11</th>\n",
       "      <td>Shovel</td>\n",
       "      <td>5</td>\n",
       "    </tr>\n",
       "    <tr>\n",
       "      <th>16</th>\n",
       "      <td>Axe</td>\n",
       "      <td>5</td>\n",
       "    </tr>\n",
       "    <tr>\n",
       "      <th>13</th>\n",
       "      <td>Shovel</td>\n",
       "      <td>5</td>\n",
       "    </tr>\n",
       "    <tr>\n",
       "      <th>0</th>\n",
       "      <td>Hammer</td>\n",
       "      <td>5</td>\n",
       "    </tr>\n",
       "    <tr>\n",
       "      <th>10</th>\n",
       "      <td>Axe</td>\n",
       "      <td>5</td>\n",
       "    </tr>\n",
       "    <tr>\n",
       "      <th>12</th>\n",
       "      <td>Axe</td>\n",
       "      <td>4</td>\n",
       "    </tr>\n",
       "    <tr>\n",
       "      <th>4</th>\n",
       "      <td>Shovel</td>\n",
       "      <td>4</td>\n",
       "    </tr>\n",
       "    <tr>\n",
       "      <th>9</th>\n",
       "      <td>Hammer</td>\n",
       "      <td>4</td>\n",
       "    </tr>\n",
       "    <tr>\n",
       "      <th>8</th>\n",
       "      <td>Saw</td>\n",
       "      <td>3</td>\n",
       "    </tr>\n",
       "    <tr>\n",
       "      <th>2</th>\n",
       "      <td>Saw</td>\n",
       "      <td>3</td>\n",
       "    </tr>\n",
       "    <tr>\n",
       "      <th>1</th>\n",
       "      <td>Shovel</td>\n",
       "      <td>2</td>\n",
       "    </tr>\n",
       "    <tr>\n",
       "      <th>15</th>\n",
       "      <td>Screwdriver</td>\n",
       "      <td>1</td>\n",
       "    </tr>\n",
       "  </tbody>\n",
       "</table>\n",
       "</div>"
      ],
      "text/plain": [
       "        Product  Quantity\n",
       "6   Screwdriver         9\n",
       "5           Axe         8\n",
       "17       Shovel         7\n",
       "18          Axe         6\n",
       "3           Axe         6\n",
       "7   Screwdriver         6\n",
       "14       Hammer         6\n",
       "11       Shovel         5\n",
       "16          Axe         5\n",
       "13       Shovel         5\n",
       "0        Hammer         5\n",
       "10          Axe         5\n",
       "12          Axe         4\n",
       "4        Shovel         4\n",
       "9        Hammer         4\n",
       "8           Saw         3\n",
       "2           Saw         3\n",
       "1        Shovel         2\n",
       "15  Screwdriver         1"
      ]
     },
     "execution_count": 31,
     "metadata": {},
     "output_type": "execute_result"
    }
   ],
   "source": [
    "tools.sort_values(by = \"Quantity\", ascending = False)"
   ]
  },
  {
   "cell_type": "markdown",
   "id": "9162f24b",
   "metadata": {},
   "source": [
    "## Concat "
   ]
  },
  {
   "cell_type": "code",
   "execution_count": 12,
   "id": "ffad1127",
   "metadata": {},
   "outputs": [
    {
     "name": "stdout",
     "output_type": "stream",
     "text": [
      "{'name': ['Sam', 'Raul', 'Luke'], 'age': [18, 56, 26]}\n",
      "{'name': ['Luis', 'Lautaro', 'Sofia'], 'age': [30, 20, 44]}\n",
      "{'name': ['Homero', 'Seiya', 'Ruth'], 'age': [34, 19, 45]}\n"
     ]
    }
   ],
   "source": [
    "jan = {\"name\":[\"Sam\", \"Raul\", \"Luke\"],\n",
    "      \"age\": [18,56,26]}\n",
    "\n",
    "\n",
    "print(jan)\n",
    "\n",
    "feb = {\"name\":[\"Luis\", \"Lautaro\", \"Sofia\"],\n",
    "      \"age\": [30,20,44]}\n",
    "\n",
    "\n",
    "print(feb)\n",
    "\n",
    "mar = {\"name\":[\"Homero\", \"Seiya\", \"Ruth\"],\n",
    "      \"age\": [34,19,45]}\n",
    "\n",
    "print(mar)"
   ]
  },
  {
   "cell_type": "code",
   "execution_count": 13,
   "id": "0649c8e0",
   "metadata": {},
   "outputs": [],
   "source": [
    "pdjan = pd.DataFrame(jan)\n",
    "pdfeb = pd.DataFrame(feb)\n",
    "pdmar = pd.DataFrame(mar)"
   ]
  },
  {
   "cell_type": "code",
   "execution_count": 14,
   "id": "65d2d293",
   "metadata": {},
   "outputs": [
    {
     "data": {
      "text/html": [
       "<div>\n",
       "<style scoped>\n",
       "    .dataframe tbody tr th:only-of-type {\n",
       "        vertical-align: middle;\n",
       "    }\n",
       "\n",
       "    .dataframe tbody tr th {\n",
       "        vertical-align: top;\n",
       "    }\n",
       "\n",
       "    .dataframe thead th {\n",
       "        text-align: right;\n",
       "    }\n",
       "</style>\n",
       "<table border=\"1\" class=\"dataframe\">\n",
       "  <thead>\n",
       "    <tr style=\"text-align: right;\">\n",
       "      <th></th>\n",
       "      <th>index</th>\n",
       "      <th>name</th>\n",
       "      <th>age</th>\n",
       "    </tr>\n",
       "  </thead>\n",
       "  <tbody>\n",
       "    <tr>\n",
       "      <th>0</th>\n",
       "      <td>0</td>\n",
       "      <td>Sam</td>\n",
       "      <td>18</td>\n",
       "    </tr>\n",
       "    <tr>\n",
       "      <th>1</th>\n",
       "      <td>1</td>\n",
       "      <td>Raul</td>\n",
       "      <td>56</td>\n",
       "    </tr>\n",
       "    <tr>\n",
       "      <th>2</th>\n",
       "      <td>2</td>\n",
       "      <td>Luke</td>\n",
       "      <td>26</td>\n",
       "    </tr>\n",
       "    <tr>\n",
       "      <th>3</th>\n",
       "      <td>0</td>\n",
       "      <td>Luis</td>\n",
       "      <td>30</td>\n",
       "    </tr>\n",
       "    <tr>\n",
       "      <th>4</th>\n",
       "      <td>1</td>\n",
       "      <td>Lautaro</td>\n",
       "      <td>20</td>\n",
       "    </tr>\n",
       "    <tr>\n",
       "      <th>5</th>\n",
       "      <td>2</td>\n",
       "      <td>Sofia</td>\n",
       "      <td>44</td>\n",
       "    </tr>\n",
       "    <tr>\n",
       "      <th>6</th>\n",
       "      <td>0</td>\n",
       "      <td>Homero</td>\n",
       "      <td>34</td>\n",
       "    </tr>\n",
       "    <tr>\n",
       "      <th>7</th>\n",
       "      <td>1</td>\n",
       "      <td>Seiya</td>\n",
       "      <td>19</td>\n",
       "    </tr>\n",
       "    <tr>\n",
       "      <th>8</th>\n",
       "      <td>2</td>\n",
       "      <td>Ruth</td>\n",
       "      <td>45</td>\n",
       "    </tr>\n",
       "  </tbody>\n",
       "</table>\n",
       "</div>"
      ],
      "text/plain": [
       "   index     name  age\n",
       "0      0      Sam   18\n",
       "1      1     Raul   56\n",
       "2      2     Luke   26\n",
       "3      0     Luis   30\n",
       "4      1  Lautaro   20\n",
       "5      2    Sofia   44\n",
       "6      0   Homero   34\n",
       "7      1    Seiya   19\n",
       "8      2     Ruth   45"
      ]
     },
     "execution_count": 14,
     "metadata": {},
     "output_type": "execute_result"
    }
   ],
   "source": [
    "firstThreeMonths = pd.concat([pdjan, pdfeb, pdmar])\n",
    "firstThreeMonths.reset_index()"
   ]
  },
  {
   "cell_type": "markdown",
   "id": "30a8fb79",
   "metadata": {},
   "source": [
    "## Merge "
   ]
  },
  {
   "cell_type": "code",
   "execution_count": 15,
   "id": "96da2b3d",
   "metadata": {},
   "outputs": [
    {
     "data": {
      "text/html": [
       "<div>\n",
       "<style scoped>\n",
       "    .dataframe tbody tr th:only-of-type {\n",
       "        vertical-align: middle;\n",
       "    }\n",
       "\n",
       "    .dataframe tbody tr th {\n",
       "        vertical-align: top;\n",
       "    }\n",
       "\n",
       "    .dataframe thead th {\n",
       "        text-align: right;\n",
       "    }\n",
       "</style>\n",
       "<table border=\"1\" class=\"dataframe\">\n",
       "  <thead>\n",
       "    <tr style=\"text-align: right;\">\n",
       "      <th></th>\n",
       "      <th>ID</th>\n",
       "      <th>Name</th>\n",
       "      <th>Age</th>\n",
       "    </tr>\n",
       "    <tr>\n",
       "      <th>ID</th>\n",
       "      <th></th>\n",
       "      <th></th>\n",
       "      <th></th>\n",
       "    </tr>\n",
       "  </thead>\n",
       "  <tbody>\n",
       "    <tr>\n",
       "      <th>1</th>\n",
       "      <td>1</td>\n",
       "      <td>Julian</td>\n",
       "      <td>85</td>\n",
       "    </tr>\n",
       "    <tr>\n",
       "      <th>2</th>\n",
       "      <td>2</td>\n",
       "      <td>Rebeca</td>\n",
       "      <td>42</td>\n",
       "    </tr>\n",
       "    <tr>\n",
       "      <th>3</th>\n",
       "      <td>3</td>\n",
       "      <td>Natalia</td>\n",
       "      <td>58</td>\n",
       "    </tr>\n",
       "    <tr>\n",
       "      <th>4</th>\n",
       "      <td>4</td>\n",
       "      <td>Leo</td>\n",
       "      <td>65</td>\n",
       "    </tr>\n",
       "    <tr>\n",
       "      <th>5</th>\n",
       "      <td>5</td>\n",
       "      <td>Luis</td>\n",
       "      <td>15</td>\n",
       "    </tr>\n",
       "  </tbody>\n",
       "</table>\n",
       "</div>"
      ],
      "text/plain": [
       "    ID     Name  Age\n",
       "ID                  \n",
       "1    1   Julian   85\n",
       "2    2   Rebeca   42\n",
       "3    3  Natalia   58\n",
       "4    4      Leo   65\n",
       "5    5     Luis   15"
      ]
     },
     "execution_count": 15,
     "metadata": {},
     "output_type": "execute_result"
    }
   ],
   "source": [
    "emplodata = pd.read_excel(\"tools.xlsx\", sheet_name = \"B\")\n",
    "emplodata.set_index(emplodata[\"ID\"])"
   ]
  },
  {
   "cell_type": "code",
   "execution_count": 16,
   "id": "bdab79df",
   "metadata": {},
   "outputs": [
    {
     "data": {
      "text/html": [
       "<div>\n",
       "<style scoped>\n",
       "    .dataframe tbody tr th:only-of-type {\n",
       "        vertical-align: middle;\n",
       "    }\n",
       "\n",
       "    .dataframe tbody tr th {\n",
       "        vertical-align: top;\n",
       "    }\n",
       "\n",
       "    .dataframe thead th {\n",
       "        text-align: right;\n",
       "    }\n",
       "</style>\n",
       "<table border=\"1\" class=\"dataframe\">\n",
       "  <thead>\n",
       "    <tr style=\"text-align: right;\">\n",
       "      <th></th>\n",
       "      <th>Province</th>\n",
       "      <th>Phone</th>\n",
       "    </tr>\n",
       "    <tr>\n",
       "      <th>ID</th>\n",
       "      <th></th>\n",
       "      <th></th>\n",
       "    </tr>\n",
       "  </thead>\n",
       "  <tbody>\n",
       "    <tr>\n",
       "      <th>3</th>\n",
       "      <td>Alajuela</td>\n",
       "      <td>1111-1111</td>\n",
       "    </tr>\n",
       "    <tr>\n",
       "      <th>4</th>\n",
       "      <td>Cartago</td>\n",
       "      <td>5555-5555</td>\n",
       "    </tr>\n",
       "    <tr>\n",
       "      <th>1</th>\n",
       "      <td>Heredia</td>\n",
       "      <td>1234-1234</td>\n",
       "    </tr>\n",
       "    <tr>\n",
       "      <th>5</th>\n",
       "      <td>San Jose</td>\n",
       "      <td>9999-6666</td>\n",
       "    </tr>\n",
       "    <tr>\n",
       "      <th>2</th>\n",
       "      <td>Limon</td>\n",
       "      <td>7894-7894</td>\n",
       "    </tr>\n",
       "  </tbody>\n",
       "</table>\n",
       "</div>"
      ],
      "text/plain": [
       "    Province      Phone\n",
       "ID                     \n",
       "3   Alajuela  1111-1111\n",
       "4    Cartago  5555-5555\n",
       "1    Heredia  1234-1234\n",
       "5   San Jose  9999-6666\n",
       "2      Limon  7894-7894"
      ]
     },
     "execution_count": 16,
     "metadata": {},
     "output_type": "execute_result"
    }
   ],
   "source": [
    "emplodata2 = pd.read_excel(\"tools.xlsx\", sheet_name = \"C\")\n",
    "emplodata2.set_index(\"ID\")"
   ]
  },
  {
   "cell_type": "code",
   "execution_count": 17,
   "id": "cc99df2f",
   "metadata": {},
   "outputs": [
    {
     "data": {
      "text/html": [
       "<div>\n",
       "<style scoped>\n",
       "    .dataframe tbody tr th:only-of-type {\n",
       "        vertical-align: middle;\n",
       "    }\n",
       "\n",
       "    .dataframe tbody tr th {\n",
       "        vertical-align: top;\n",
       "    }\n",
       "\n",
       "    .dataframe thead th {\n",
       "        text-align: right;\n",
       "    }\n",
       "</style>\n",
       "<table border=\"1\" class=\"dataframe\">\n",
       "  <thead>\n",
       "    <tr style=\"text-align: right;\">\n",
       "      <th></th>\n",
       "      <th>Name</th>\n",
       "      <th>Age</th>\n",
       "      <th>Province</th>\n",
       "      <th>Phone</th>\n",
       "    </tr>\n",
       "    <tr>\n",
       "      <th>ID</th>\n",
       "      <th></th>\n",
       "      <th></th>\n",
       "      <th></th>\n",
       "      <th></th>\n",
       "    </tr>\n",
       "  </thead>\n",
       "  <tbody>\n",
       "    <tr>\n",
       "      <th>1</th>\n",
       "      <td>Julian</td>\n",
       "      <td>85</td>\n",
       "      <td>Heredia</td>\n",
       "      <td>1234-1234</td>\n",
       "    </tr>\n",
       "    <tr>\n",
       "      <th>2</th>\n",
       "      <td>Rebeca</td>\n",
       "      <td>42</td>\n",
       "      <td>Limon</td>\n",
       "      <td>7894-7894</td>\n",
       "    </tr>\n",
       "    <tr>\n",
       "      <th>3</th>\n",
       "      <td>Natalia</td>\n",
       "      <td>58</td>\n",
       "      <td>Alajuela</td>\n",
       "      <td>1111-1111</td>\n",
       "    </tr>\n",
       "    <tr>\n",
       "      <th>4</th>\n",
       "      <td>Leo</td>\n",
       "      <td>65</td>\n",
       "      <td>Cartago</td>\n",
       "      <td>5555-5555</td>\n",
       "    </tr>\n",
       "    <tr>\n",
       "      <th>5</th>\n",
       "      <td>Luis</td>\n",
       "      <td>15</td>\n",
       "      <td>San Jose</td>\n",
       "      <td>9999-6666</td>\n",
       "    </tr>\n",
       "  </tbody>\n",
       "</table>\n",
       "</div>"
      ],
      "text/plain": [
       "       Name  Age  Province      Phone\n",
       "ID                                   \n",
       "1    Julian   85   Heredia  1234-1234\n",
       "2    Rebeca   42     Limon  7894-7894\n",
       "3   Natalia   58  Alajuela  1111-1111\n",
       "4       Leo   65   Cartago  5555-5555\n",
       "5      Luis   15  San Jose  9999-6666"
      ]
     },
     "execution_count": 17,
     "metadata": {},
     "output_type": "execute_result"
    }
   ],
   "source": [
    "emplodataTogether = pd.merge(emplodata, emplodata2, how = \"inner\", on = \"ID\")\n",
    "emplodataTogether.set_index(\"ID\")"
   ]
  },
  {
   "cell_type": "markdown",
   "id": "33ee87f6",
   "metadata": {},
   "source": [
    "## Join "
   ]
  },
  {
   "cell_type": "code",
   "execution_count": 18,
   "id": "167beb4a",
   "metadata": {},
   "outputs": [
    {
     "data": {
      "text/html": [
       "<div>\n",
       "<style scoped>\n",
       "    .dataframe tbody tr th:only-of-type {\n",
       "        vertical-align: middle;\n",
       "    }\n",
       "\n",
       "    .dataframe tbody tr th {\n",
       "        vertical-align: top;\n",
       "    }\n",
       "\n",
       "    .dataframe thead th {\n",
       "        text-align: right;\n",
       "    }\n",
       "</style>\n",
       "<table border=\"1\" class=\"dataframe\">\n",
       "  <thead>\n",
       "    <tr style=\"text-align: right;\">\n",
       "      <th></th>\n",
       "      <th>Name</th>\n",
       "      <th>Age</th>\n",
       "      <th>Province</th>\n",
       "      <th>Phone</th>\n",
       "    </tr>\n",
       "    <tr>\n",
       "      <th>ID</th>\n",
       "      <th></th>\n",
       "      <th></th>\n",
       "      <th></th>\n",
       "      <th></th>\n",
       "    </tr>\n",
       "  </thead>\n",
       "  <tbody>\n",
       "    <tr>\n",
       "      <th>1</th>\n",
       "      <td>Julian</td>\n",
       "      <td>85</td>\n",
       "      <td>Heredia</td>\n",
       "      <td>1234-1234</td>\n",
       "    </tr>\n",
       "    <tr>\n",
       "      <th>2</th>\n",
       "      <td>Rebeca</td>\n",
       "      <td>42</td>\n",
       "      <td>Limon</td>\n",
       "      <td>7894-7894</td>\n",
       "    </tr>\n",
       "    <tr>\n",
       "      <th>3</th>\n",
       "      <td>Natalia</td>\n",
       "      <td>58</td>\n",
       "      <td>Alajuela</td>\n",
       "      <td>1111-1111</td>\n",
       "    </tr>\n",
       "    <tr>\n",
       "      <th>4</th>\n",
       "      <td>Leo</td>\n",
       "      <td>65</td>\n",
       "      <td>Cartago</td>\n",
       "      <td>5555-5555</td>\n",
       "    </tr>\n",
       "    <tr>\n",
       "      <th>5</th>\n",
       "      <td>Luis</td>\n",
       "      <td>15</td>\n",
       "      <td>San Jose</td>\n",
       "      <td>9999-6666</td>\n",
       "    </tr>\n",
       "  </tbody>\n",
       "</table>\n",
       "</div>"
      ],
      "text/plain": [
       "       Name  Age  Province      Phone\n",
       "ID                                   \n",
       "1    Julian   85   Heredia  1234-1234\n",
       "2    Rebeca   42     Limon  7894-7894\n",
       "3   Natalia   58  Alajuela  1111-1111\n",
       "4       Leo   65   Cartago  5555-5555\n",
       "5      Luis   15  San Jose  9999-6666"
      ]
     },
     "execution_count": 18,
     "metadata": {},
     "output_type": "execute_result"
    }
   ],
   "source": [
    "emplodata.set_index(\"ID\").join(emplodata2.set_index(\"ID\"))"
   ]
  },
  {
   "cell_type": "code",
   "execution_count": 34,
   "id": "c303240a",
   "metadata": {},
   "outputs": [],
   "source": [
    "def YearsIntoMonths(x):\n",
    "    return x * 12"
   ]
  },
  {
   "cell_type": "code",
   "execution_count": 35,
   "id": "e1fa33fa",
   "metadata": {},
   "outputs": [
    {
     "data": {
      "text/plain": [
       "0    1020\n",
       "1     504\n",
       "2     696\n",
       "3     780\n",
       "4     180\n",
       "Name: Age, dtype: int64"
      ]
     },
     "execution_count": 35,
     "metadata": {},
     "output_type": "execute_result"
    }
   ],
   "source": [
    "emplodata[\"Age\"].apply(YearsIntoMonths)"
   ]
  },
  {
   "cell_type": "markdown",
   "id": "9e1c5bb6",
   "metadata": {},
   "source": [
    "## Pivot Table"
   ]
  },
  {
   "cell_type": "code",
   "execution_count": 22,
   "id": "f256b8e7",
   "metadata": {},
   "outputs": [
    {
     "data": {
      "text/html": [
       "<div>\n",
       "<style scoped>\n",
       "    .dataframe tbody tr th:only-of-type {\n",
       "        vertical-align: middle;\n",
       "    }\n",
       "\n",
       "    .dataframe tbody tr th {\n",
       "        vertical-align: top;\n",
       "    }\n",
       "\n",
       "    .dataframe thead th {\n",
       "        text-align: right;\n",
       "    }\n",
       "</style>\n",
       "<table border=\"1\" class=\"dataframe\">\n",
       "  <thead>\n",
       "    <tr style=\"text-align: right;\">\n",
       "      <th></th>\n",
       "      <th>ID</th>\n",
       "      <th>Color</th>\n",
       "      <th>Month</th>\n",
       "    </tr>\n",
       "  </thead>\n",
       "  <tbody>\n",
       "    <tr>\n",
       "      <th>0</th>\n",
       "      <td>AAA1</td>\n",
       "      <td>Red</td>\n",
       "      <td>April</td>\n",
       "    </tr>\n",
       "    <tr>\n",
       "      <th>1</th>\n",
       "      <td>AAA2</td>\n",
       "      <td>Black</td>\n",
       "      <td>March</td>\n",
       "    </tr>\n",
       "    <tr>\n",
       "      <th>2</th>\n",
       "      <td>AAA3</td>\n",
       "      <td>White</td>\n",
       "      <td>May</td>\n",
       "    </tr>\n",
       "    <tr>\n",
       "      <th>3</th>\n",
       "      <td>AAA4</td>\n",
       "      <td>Blue</td>\n",
       "      <td>April</td>\n",
       "    </tr>\n",
       "    <tr>\n",
       "      <th>4</th>\n",
       "      <td>AAA5</td>\n",
       "      <td>White</td>\n",
       "      <td>May</td>\n",
       "    </tr>\n",
       "  </tbody>\n",
       "</table>\n",
       "</div>"
      ],
      "text/plain": [
       "     ID  Color  Month\n",
       "0  AAA1    Red  April\n",
       "1  AAA2  Black  March\n",
       "2  AAA3  White    May\n",
       "3  AAA4   Blue  April\n",
       "4  AAA5  White    May"
      ]
     },
     "execution_count": 22,
     "metadata": {},
     "output_type": "execute_result"
    }
   ],
   "source": [
    "carData = pd.read_excel(\"tools.xlsx\", sheet_name = \"D\")\n",
    "carData.head()"
   ]
  },
  {
   "cell_type": "code",
   "execution_count": 29,
   "id": "6ca1cf30",
   "metadata": {},
   "outputs": [
    {
     "data": {
      "text/html": [
       "<div>\n",
       "<style scoped>\n",
       "    .dataframe tbody tr th:only-of-type {\n",
       "        vertical-align: middle;\n",
       "    }\n",
       "\n",
       "    .dataframe tbody tr th {\n",
       "        vertical-align: top;\n",
       "    }\n",
       "\n",
       "    .dataframe thead th {\n",
       "        text-align: right;\n",
       "    }\n",
       "</style>\n",
       "<table border=\"1\" class=\"dataframe\">\n",
       "  <thead>\n",
       "    <tr style=\"text-align: right;\">\n",
       "      <th>Month</th>\n",
       "      <th>April</th>\n",
       "      <th>March</th>\n",
       "      <th>May</th>\n",
       "    </tr>\n",
       "    <tr>\n",
       "      <th>Color</th>\n",
       "      <th></th>\n",
       "      <th></th>\n",
       "      <th></th>\n",
       "    </tr>\n",
       "  </thead>\n",
       "  <tbody>\n",
       "    <tr>\n",
       "      <th>Black</th>\n",
       "      <td>NaN</td>\n",
       "      <td>2.0</td>\n",
       "      <td>2.0</td>\n",
       "    </tr>\n",
       "    <tr>\n",
       "      <th>Blue</th>\n",
       "      <td>2.0</td>\n",
       "      <td>2.0</td>\n",
       "      <td>1.0</td>\n",
       "    </tr>\n",
       "    <tr>\n",
       "      <th>Red</th>\n",
       "      <td>2.0</td>\n",
       "      <td>2.0</td>\n",
       "      <td>NaN</td>\n",
       "    </tr>\n",
       "    <tr>\n",
       "      <th>White</th>\n",
       "      <td>4.0</td>\n",
       "      <td>NaN</td>\n",
       "      <td>3.0</td>\n",
       "    </tr>\n",
       "  </tbody>\n",
       "</table>\n",
       "</div>"
      ],
      "text/plain": [
       "Month  April  March  May\n",
       "Color                   \n",
       "Black    NaN    2.0  2.0\n",
       "Blue     2.0    2.0  1.0\n",
       "Red      2.0    2.0  NaN\n",
       "White    4.0    NaN  3.0"
      ]
     },
     "execution_count": 29,
     "metadata": {},
     "output_type": "execute_result"
    }
   ],
   "source": [
    "carData.pivot_table(values = \"ID\", index= \"Color\", columns = \"Month\", aggfunc = np.count_nonzero)"
   ]
  },
  {
   "cell_type": "code",
   "execution_count": 39,
   "id": "72d0f6ff",
   "metadata": {},
   "outputs": [],
   "source": [
    "carData.to_csv(\"CarDataPivot\", index = True)\n"
   ]
  },
  {
   "cell_type": "code",
   "execution_count": 41,
   "id": "2baff343",
   "metadata": {},
   "outputs": [],
   "source": [
    "carData.to_excel(\"CarDataPivot.xlsx\", sheet_name = \"FIRST SHEET\")"
   ]
  }
 ],
 "metadata": {
  "kernelspec": {
   "display_name": "Python 3 (ipykernel)",
   "language": "python",
   "name": "python3"
  },
  "language_info": {
   "codemirror_mode": {
    "name": "ipython",
    "version": 3
   },
   "file_extension": ".py",
   "mimetype": "text/x-python",
   "name": "python",
   "nbconvert_exporter": "python",
   "pygments_lexer": "ipython3",
   "version": "3.9.7"
  }
 },
 "nbformat": 4,
 "nbformat_minor": 5
}
