{
 "cells": [
  {
   "cell_type": "code",
   "execution_count": 1,
   "id": "707a7727",
   "metadata": {},
   "outputs": [],
   "source": [
    "import pandas as pd"
   ]
  },
  {
   "cell_type": "code",
   "execution_count": 43,
   "id": "51a7d9d8",
   "metadata": {},
   "outputs": [
    {
     "data": {
      "text/plain": [
       "A       USA\n",
       "B    Brazil\n",
       "C    France\n",
       "D    Angola\n",
       "E     Japan\n",
       "dtype: object"
      ]
     },
     "execution_count": 43,
     "metadata": {},
     "output_type": "execute_result"
    }
   ],
   "source": [
    "countries = pd.Series([\"USA\", \"Brazil\", \"France\", \"Angola\", \"Japan\"], index = \"A B C D E\".split())\n",
    "countries"
   ]
  },
  {
   "cell_type": "code",
   "execution_count": 8,
   "id": "d04139f2",
   "metadata": {},
   "outputs": [
    {
     "name": "stdout",
     "output_type": "stream",
     "text": [
      "Index(['A', 'B', 'C', 'D', 'E'], dtype='object')\n",
      "['USA' 'Brazil' 'France' 'Angola' 'Japan']\n"
     ]
    }
   ],
   "source": [
    "print(countries.index)\n",
    "print(countries.values)"
   ]
  },
  {
   "cell_type": "code",
   "execution_count": 10,
   "id": "1d5dfaba",
   "metadata": {},
   "outputs": [
    {
     "name": "stdout",
     "output_type": "stream",
     "text": [
      "(5,)\n",
      "5\n"
     ]
    }
   ],
   "source": [
    "print(countries.shape)\n",
    "print(countries.size)"
   ]
  },
  {
   "cell_type": "code",
   "execution_count": 11,
   "id": "435d326a",
   "metadata": {},
   "outputs": [
    {
     "data": {
      "text/plain": [
       "A       USA\n",
       "B    Brazil\n",
       "C    France\n",
       "dtype: object"
      ]
     },
     "execution_count": 11,
     "metadata": {},
     "output_type": "execute_result"
    }
   ],
   "source": [
    "countries[0:3]"
   ]
  },
  {
   "cell_type": "code",
   "execution_count": 21,
   "id": "b216c472",
   "metadata": {},
   "outputs": [
    {
     "data": {
      "text/plain": [
       "A        USA\n",
       "B     Brazil\n",
       "C    Germany\n",
       "D     Angola\n",
       "E      Japan\n",
       "dtype: object"
      ]
     },
     "execution_count": 21,
     "metadata": {},
     "output_type": "execute_result"
    }
   ],
   "source": [
    "changeCountries = countries.copy()\n",
    "changeCountries.update(pd.Series([\"Canada\", \"Argentina\", \"Germany\", \"Mozambique\", \"Taiwan\"]))\n",
    "\n",
    "changeCountries"
   ]
  },
  {
   "cell_type": "code",
   "execution_count": 24,
   "id": "2c2ae9e6",
   "metadata": {},
   "outputs": [
    {
     "data": {
      "text/plain": [
       "1     True\n",
       "0    False\n",
       "dtype: bool"
      ]
     },
     "execution_count": 24,
     "metadata": {},
     "output_type": "execute_result"
    }
   ],
   "source": [
    "basicBoolSerie = pd.Series([True, False], index= ([1,0]))\n",
    "basicSerie"
   ]
  },
  {
   "cell_type": "code",
   "execution_count": 41,
   "id": "c7038c66",
   "metadata": {},
   "outputs": [
    {
     "name": "stdout",
     "output_type": "stream",
     "text": [
      "1    5\n",
      "2    4\n",
      "3    3\n",
      "4    2\n",
      "5    1\n",
      "dtype: int64\n",
      "5\n"
     ]
    }
   ],
   "source": [
    "nlist = [1,2,3,4,5]\n",
    "ilist = [5,4,3,2,1]\n",
    "numericSeries = pd.Series(nlist, index = (ilist))\n",
    "\n",
    "numericSeries = numericSeries.sort_index()\n",
    "\n",
    "print(numericSeries)\n",
    "print(numericSeries.count())"
   ]
  },
  {
   "cell_type": "code",
   "execution_count": 31,
   "id": "556a81b2",
   "metadata": {},
   "outputs": [
    {
     "data": {
      "text/plain": [
       "The Simpsons    Homero Simpson\n",
       "Family Guy       Peter Griffin\n",
       "Futurama                  Fray\n",
       "dtype: object"
      ]
     },
     "execution_count": 31,
     "metadata": {},
     "output_type": "execute_result"
    }
   ],
   "source": [
    "mainCharacters = { \"The Simpsons\" : \"Homero Simpson\", \"Family Guy\": \"Peter Griffin\", \"Futurama\": \"Fray\"}\n",
    "mainCharacterspd = pd.Series(mainCharacters)\n",
    "mainCharacterspd"
   ]
  },
  {
   "cell_type": "code",
   "execution_count": 36,
   "id": "46a9cb08",
   "metadata": {},
   "outputs": [
    {
     "name": "stdout",
     "output_type": "stream",
     "text": [
      "Peter Griffin\n",
      "Fray\n",
      "Peter Griffin\n",
      "Fray\n"
     ]
    }
   ],
   "source": [
    "print(mainCharacterspd.iloc[1])\n",
    "print(mainCharacterspd.loc[\"Futurama\"])\n",
    "print(mainCharacterspd[1])\n",
    "print(mainCharacterspd[2])"
   ]
  },
  {
   "cell_type": "code",
   "execution_count": null,
   "id": "c2092cc4",
   "metadata": {},
   "outputs": [],
   "source": []
  }
 ],
 "metadata": {
  "kernelspec": {
   "display_name": "Python 3 (ipykernel)",
   "language": "python",
   "name": "python3"
  },
  "language_info": {
   "codemirror_mode": {
    "name": "ipython",
    "version": 3
   },
   "file_extension": ".py",
   "mimetype": "text/x-python",
   "name": "python",
   "nbconvert_exporter": "python",
   "pygments_lexer": "ipython3",
   "version": "3.9.7"
  }
 },
 "nbformat": 4,
 "nbformat_minor": 5
}
